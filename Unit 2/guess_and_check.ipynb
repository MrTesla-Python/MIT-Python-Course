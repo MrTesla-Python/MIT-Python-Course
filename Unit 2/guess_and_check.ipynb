{
 "cells": [
  {
   "cell_type": "code",
   "execution_count": 1,
   "metadata": {},
   "outputs": [
    {
     "name": "stdout",
     "output_type": "stream",
     "text": [
      "Cube root of 27 is 3\n"
     ]
    }
   ],
   "source": [
    "x = int(input(\"Enter an integer: \"))\n",
    "ans = 0\n",
    "while ans**3 < abs(x):\n",
    "    ans += 1\n",
    "if ans**3 != abs(x):\n",
    "    print(str(x) + \" is not a perfect cube\")\n",
    "else:\n",
    "    if x < 0:\n",
    "        ans -= ans\n",
    "    print(\"Cube root of \" + str(x) + \" is \" + str(ans))"
   ]
  },
  {
   "cell_type": "code",
   "execution_count": 2,
   "metadata": {},
   "outputs": [
    {
     "name": "stdout",
     "output_type": "stream",
     "text": [
      "Cube root of  8  is  2\n"
     ]
    }
   ],
   "source": [
    "# Cleaner Guess and Check\n",
    "cube = 8\n",
    "for guess in range(cube+1):\n",
    "    if guess**3 == cube:\n",
    "        print(\"Cube root of \", cube, \" is \", guess)"
   ]
  },
  {
   "cell_type": "code",
   "execution_count": 3,
   "metadata": {},
   "outputs": [
    {
     "name": "stdout",
     "output_type": "stream",
     "text": [
      "6 is not a perfect cube\n"
     ]
    }
   ],
   "source": [
    "# Even Cleaner Guess and Check\n",
    "cube = 6\n",
    "for guess in range(abs(cube)+1):\n",
    "    if guess**3 >= abs(cube):\n",
    "        break\n",
    "if guess**3 != abs(cube):\n",
    "    print(cube, \"is not a perfect cube\")\n",
    "else:\n",
    "    if cube < 0:\n",
    "        guess -= guess\n",
    "    print(\"Cube root of \", cube, \" is \", guess)"
   ]
  }
 ],
 "metadata": {
  "kernelspec": {
   "display_name": "base",
   "language": "python",
   "name": "python3"
  },
  "language_info": {
   "codemirror_mode": {
    "name": "ipython",
    "version": 3
   },
   "file_extension": ".py",
   "mimetype": "text/x-python",
   "name": "python",
   "nbconvert_exporter": "python",
   "pygments_lexer": "ipython3",
   "version": "3.9.12"
  },
  "orig_nbformat": 4,
  "vscode": {
   "interpreter": {
    "hash": "c21f4b550d44dd8da30efeda0f3fb842b1394f99ed710ddf513c5093383f4f73"
   }
  }
 },
 "nbformat": 4,
 "nbformat_minor": 2
}
