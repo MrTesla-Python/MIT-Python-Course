{
 "cells": [
  {
   "attachments": {},
   "cell_type": "markdown",
   "metadata": {},
   "source": [
    "## Variable Scope\n",
    "* formal parameter gets bound to the value of actual parameter when function is called\n",
    "* new scope/frame/environment create when enter a function\n",
    "* scope is mapping of names to objects\n"
   ]
  },
  {
   "cell_type": "code",
   "execution_count": 1,
   "metadata": {},
   "outputs": [
    {
     "name": "stdout",
     "output_type": "stream",
     "text": [
      "in f(x): x = 4\n",
      "4\n"
     ]
    }
   ],
   "source": [
    "def f(x):\n",
    "    x += 1\n",
    "    print(\"in f(x): x =\", x)\n",
    "    return x\n",
    "x = 3\n",
    "z = f(x)"
   ]
  },
  {
   "cell_type": "code",
   "execution_count": 3,
   "metadata": {},
   "outputs": [],
   "source": [
    "def is_even(i):\n",
    "    i%2 == 0\n",
    "is_even(2)"
   ]
  },
  {
   "attachments": {},
   "cell_type": "markdown",
   "metadata": {},
   "source": [
    "## Return vs Print\n",
    "\n",
    "* Return \n",
    "    * return only has a meaning **inside** a function\n",
    "    * only **one** return executed inside a function\n",
    "    * code inside a function but after return statement is not executed\n",
    "    * has a value asssociated with it, **given** to a function caller\n",
    "* Print\n",
    "    * print can be used **outside** funtions\n",
    "    * can execute **many** print statements inside a function\n",
    "    * code inside a function can be executed after a print statement\n",
    "    * has a value associated with it, **outputted** to the console"
   ]
  },
  {
   "cell_type": "code",
   "execution_count": 4,
   "metadata": {},
   "outputs": [
    {
     "name": "stdout",
     "output_type": "stream",
     "text": [
      "inside func_a\n",
      "None\n",
      "inside func_b\n",
      "7\n",
      "inside func_c\n",
      "inside func_a\n",
      "None\n"
     ]
    }
   ],
   "source": [
    "def func_a():\n",
    "    print(\"inside func_a\")\n",
    "def func_b(y):\n",
    "    print(\"inside func_b\")\n",
    "    return y\n",
    "def func_c(z):\n",
    "    print(\"inside func_c\")\n",
    "    return z()\n",
    "print(func_a())\n",
    "print(5 + func_b(2))\n",
    "print(func_c(func_a))"
   ]
  },
  {
   "attachments": {},
   "cell_type": "markdown",
   "metadata": {},
   "source": [
    "## Scope example\n",
    "* inside a function, **can access** a variable defined outside\n",
    "* inside a function, **cannot modify** a variable defined outside"
   ]
  },
  {
   "cell_type": "code",
   "execution_count": 5,
   "metadata": {},
   "outputs": [
    {
     "name": "stdout",
     "output_type": "stream",
     "text": [
      "2\n",
      "5\n"
     ]
    }
   ],
   "source": [
    "def f(y):\n",
    "    x = 1\n",
    "    x += 1\n",
    "    print(x)\n",
    "\n",
    "x = 5\n",
    "f(x)\n",
    "print(x)"
   ]
  },
  {
   "cell_type": "code",
   "execution_count": 6,
   "metadata": {},
   "outputs": [
    {
     "name": "stdout",
     "output_type": "stream",
     "text": [
      "5\n",
      "6\n",
      "5\n"
     ]
    }
   ],
   "source": [
    "def g(y):\n",
    "    print(x)\n",
    "    print(x + 1)\n",
    "\n",
    "x = 5\n",
    "g(x)\n",
    "print(x)"
   ]
  },
  {
   "cell_type": "code",
   "execution_count": 7,
   "metadata": {},
   "outputs": [
    {
     "ename": "UnboundLocalError",
     "evalue": "local variable 'x' referenced before assignment",
     "output_type": "error",
     "traceback": [
      "\u001b[1;31m---------------------------------------------------------------------------\u001b[0m",
      "\u001b[1;31mUnboundLocalError\u001b[0m                         Traceback (most recent call last)",
      "\u001b[1;32mc:\\Users\\trist\\OneDrive\\Documents\\GitHub\\MIT-Python-Course\\Unit 2\\4. Functions\\calling_functions_and_scope.ipynb Cell 9\u001b[0m in \u001b[0;36m<cell line: 4>\u001b[1;34m()\u001b[0m\n\u001b[0;32m      <a href='vscode-notebook-cell:/c%3A/Users/trist/OneDrive/Documents/GitHub/MIT-Python-Course/Unit%202/4.%20Functions/calling_functions_and_scope.ipynb#X13sZmlsZQ%3D%3D?line=1'>2</a>\u001b[0m     x \u001b[39m+\u001b[39m\u001b[39m=\u001b[39m \u001b[39m1\u001b[39m\n\u001b[0;32m      <a href='vscode-notebook-cell:/c%3A/Users/trist/OneDrive/Documents/GitHub/MIT-Python-Course/Unit%202/4.%20Functions/calling_functions_and_scope.ipynb#X13sZmlsZQ%3D%3D?line=2'>3</a>\u001b[0m x \u001b[39m=\u001b[39m \u001b[39m5\u001b[39m\n\u001b[1;32m----> <a href='vscode-notebook-cell:/c%3A/Users/trist/OneDrive/Documents/GitHub/MIT-Python-Course/Unit%202/4.%20Functions/calling_functions_and_scope.ipynb#X13sZmlsZQ%3D%3D?line=3'>4</a>\u001b[0m h(x)\n\u001b[0;32m      <a href='vscode-notebook-cell:/c%3A/Users/trist/OneDrive/Documents/GitHub/MIT-Python-Course/Unit%202/4.%20Functions/calling_functions_and_scope.ipynb#X13sZmlsZQ%3D%3D?line=4'>5</a>\u001b[0m \u001b[39mprint\u001b[39m(x)\n",
      "\u001b[1;32mc:\\Users\\trist\\OneDrive\\Documents\\GitHub\\MIT-Python-Course\\Unit 2\\4. Functions\\calling_functions_and_scope.ipynb Cell 9\u001b[0m in \u001b[0;36mh\u001b[1;34m(y)\u001b[0m\n\u001b[0;32m      <a href='vscode-notebook-cell:/c%3A/Users/trist/OneDrive/Documents/GitHub/MIT-Python-Course/Unit%202/4.%20Functions/calling_functions_and_scope.ipynb#X13sZmlsZQ%3D%3D?line=0'>1</a>\u001b[0m \u001b[39mdef\u001b[39;00m \u001b[39mh\u001b[39m(y):\n\u001b[1;32m----> <a href='vscode-notebook-cell:/c%3A/Users/trist/OneDrive/Documents/GitHub/MIT-Python-Course/Unit%202/4.%20Functions/calling_functions_and_scope.ipynb#X13sZmlsZQ%3D%3D?line=1'>2</a>\u001b[0m     x \u001b[39m+\u001b[39m\u001b[39m=\u001b[39m \u001b[39m1\u001b[39m\n",
      "\u001b[1;31mUnboundLocalError\u001b[0m: local variable 'x' referenced before assignment"
     ]
    }
   ],
   "source": [
    "def h(y):\n",
    "    x = x+1\n",
    "x = 5\n",
    "h(x)\n",
    "print(x)"
   ]
  },
  {
   "attachments": {},
   "cell_type": "markdown",
   "metadata": {},
   "source": [
    "To visualize code go to https://pythontutor.com/"
   ]
  },
  {
   "cell_type": "code",
   "execution_count": 10,
   "metadata": {},
   "outputs": [
    {
     "name": "stdout",
     "output_type": "stream",
     "text": [
      "in g(x): x = 4\n"
     ]
    }
   ],
   "source": [
    "def g(x):\n",
    "    def h():\n",
    "        x = \"abc\"\n",
    "      \n",
    "    x = x + 1\n",
    "    print(\"in g(x): x =\", x)\n",
    "    h()\n",
    "    return x\n",
    "\n",
    "x = 3\n",
    "z = g(x)"
   ]
  }
 ],
 "metadata": {
  "kernelspec": {
   "display_name": "base",
   "language": "python",
   "name": "python3"
  },
  "language_info": {
   "codemirror_mode": {
    "name": "ipython",
    "version": 3
   },
   "file_extension": ".py",
   "mimetype": "text/x-python",
   "name": "python",
   "nbconvert_exporter": "python",
   "pygments_lexer": "ipython3",
   "version": "3.9.12"
  },
  "orig_nbformat": 4,
  "vscode": {
   "interpreter": {
    "hash": "c21f4b550d44dd8da30efeda0f3fb842b1394f99ed710ddf513c5093383f4f73"
   }
  }
 },
 "nbformat": 4,
 "nbformat_minor": 2
}
