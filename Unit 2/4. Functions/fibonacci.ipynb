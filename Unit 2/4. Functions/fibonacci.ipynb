{
 "cells": [
  {
   "attachments": {},
   "cell_type": "markdown",
   "metadata": {},
   "source": [
    "## Recursion with multiple base cases\n",
    "* Fibonacci numbers\n",
    "    * Leonardo of Pias (aka Fibonacci) modeled the following challenge\n",
    "        * newborn pair of rabbits (one female, one male) are put in a pen\n",
    "        * Rabbit mate at age of one month\n",
    "        * Rabbits have a one month gestation period\n",
    "        * Assume rabbits never die, that female always produces one new pair(one male, one female) every month from its second month on\n",
    "        * How many female rabbits are there at the end of one year?"
   ]
  },
  {
   "attachments": {},
   "cell_type": "markdown",
   "metadata": {},
   "source": [
    "After one month (call it 0) - 1 female\n",
    "After second month - still 1 female (now pregnant)\n",
    "After third month - two females, one pregnant one not\n",
    "In generaal, females(n) = females(n-1)+females(n-2)\n",
    "    * Every female alive at month n-2 will produce one female in month n;\n",
    "    * These can be added those alive in month n-1 to get total alive in month n"
   ]
  },
  {
   "cell_type": "code",
   "execution_count": 2,
   "metadata": {},
   "outputs": [
    {
     "name": "stdout",
     "output_type": "stream",
     "text": [
      "13\n"
     ]
    }
   ],
   "source": [
    "def fibonacci(n):\n",
    "    if n == 0 or n == 1:\n",
    "        return 1\n",
    "    else:\n",
    "        return fibonacci(n-1)+fibonacci(n-2)\n",
    "print(fibonacci(6))"
   ]
  }
 ],
 "metadata": {
  "kernelspec": {
   "display_name": "base",
   "language": "python",
   "name": "python3"
  },
  "language_info": {
   "codemirror_mode": {
    "name": "ipython",
    "version": 3
   },
   "file_extension": ".py",
   "mimetype": "text/x-python",
   "name": "python",
   "nbconvert_exporter": "python",
   "pygments_lexer": "ipython3",
   "version": "3.9.12"
  },
  "orig_nbformat": 4,
  "vscode": {
   "interpreter": {
    "hash": "c21f4b550d44dd8da30efeda0f3fb842b1394f99ed710ddf513c5093383f4f73"
   }
  }
 },
 "nbformat": 4,
 "nbformat_minor": 2
}
