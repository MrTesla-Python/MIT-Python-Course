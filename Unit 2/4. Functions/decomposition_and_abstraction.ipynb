{
 "cells": [
  {
   "attachments": {},
   "cell_type": "markdown",
   "metadata": {},
   "source": [
    "## Good Programming\n",
    "* more code not necessarily a good thing\n",
    "* measure good programmers by the amount of functionality\n",
    "* introduce functions\n",
    "* mechanism to achieve decomposition and abstraction"
   ]
  },
  {
   "attachments": {},
   "cell_type": "markdown",
   "metadata": {},
   "source": [
    "## Example -- Projector \n",
    "* a projector is a black box\n",
    "* don't know how it works\n",
    "* know the interface: input/output\n",
    "* connect any electronics to it that can communicate with that input\n",
    "* black box somehow converts image from that input\n",
    "* black box somehow converts image from input source to a wall, magnifying it\n",
    "* ABSTRACTION IDEA: do not need to know how projector works to use it\n",
    "* projecting large image of Olympics decomposed into seperate tasks for seperate projectors\n",
    "* each projector takes input and produces seperate output \n",
    "* all projectors work together to produce larger image\n",
    "* DECOMPOSITION IDEA: different devices work together to achieve an end goal"
   ]
  },
  {
   "attachments": {},
   "cell_type": "markdown",
   "metadata": {},
   "source": [
    "## Apply These Ideas to Programming\n",
    "* **Decomposition**\n",
    "    * Break problems into different, self-contained, pieces\n",
    "* **Abstraction**\n",
    "    * Suppress details of method to compute something from use of that computation"
   ]
  },
  {
   "attachments": {},
   "cell_type": "markdown",
   "metadata": {},
   "source": [
    "## Create Structure with Decomposition\n",
    "* In example, seperate devices\n",
    "* In programming, divide code into modules\n",
    "    * are **self-contained**\n",
    "    * used to **break up** code\n",
    "    * intended to be **reusable**\n",
    "    * keep code **oraganized**\n",
    "    * **keep code coherent**\n",
    "* this lecture, achieve decomposition with functions\n",
    "* in a few weeks, achieve decomposition with classes"
   ]
  },
  {
   "attachments": {},
   "cell_type": "markdown",
   "metadata": {},
   "source": [
    "## Suppress Details with Abstraction\n",
    "* in example, no need to know how to build a projector\n",
    "* in a programming, think of a piece of code as a **black box**\n",
    "    * cannot see details\n",
    "    * do not need to see details\n",
    "    * do not want to see details\n",
    "    * hide tedious coding details\n",
    "* achieve abstraction with **function specifications** or **docstrings**"
   ]
  },
  {
   "attachments": {},
   "cell_type": "markdown",
   "metadata": {},
   "source": [
    "## Decomposition & Abstraction\n",
    "* powerful together\n",
    "* code can be used many times but only has to be debugged once!"
   ]
  }
 ],
 "metadata": {
  "kernelspec": {
   "display_name": "base",
   "language": "python",
   "name": "python3"
  },
  "language_info": {
   "name": "python",
   "version": "3.9.12"
  },
  "orig_nbformat": 4,
  "vscode": {
   "interpreter": {
    "hash": "c21f4b550d44dd8da30efeda0f3fb842b1394f99ed710ddf513c5093383f4f73"
   }
  }
 },
 "nbformat": 4,
 "nbformat_minor": 2
}
