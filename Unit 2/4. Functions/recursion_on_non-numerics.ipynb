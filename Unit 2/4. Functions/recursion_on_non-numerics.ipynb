{
 "cells": [
  {
   "attachments": {},
   "cell_type": "markdown",
   "metadata": {},
   "source": [
    "## Recursion on Non-numerics\n",
    "* How to check if a string of character is a palindrome - reads the same forwards and backwords"
   ]
  },
  {
   "cell_type": "markdown",
   "metadata": {},
   "source": [
    "## Solving recursively\n",
    "* First, convert the string to just characters, by stripping out punctuation, and converting upper case to lower case\n",
    "* Then\n",
    "    * Base case: a string of length 0 or 1 is a palindrome\n",
    "    * Recursive case:\n",
    "        * If first character matches last character, then is a palindrome if middle section is a palindrome"
   ]
  },
  {
   "cell_type": "code",
   "execution_count": 1,
   "metadata": {},
   "outputs": [
    {
     "name": "stdout",
     "output_type": "stream",
     "text": [
      "True\n"
     ]
    }
   ],
   "source": [
    "def isPalindrome(s):\n",
    "    def toChars(s):\n",
    "        s = s.lower()\n",
    "        ans = \"\"\n",
    "        for c in s:\n",
    "            if c in \"abcdefghijklmnopqrstuvwxyz\":\n",
    "                ans = ans + c\n",
    "        return ans\n",
    "    def isPal(s):\n",
    "        if len(s) <= 1:\n",
    "            return True\n",
    "        else:\n",
    "            return s[0] == s[-1] and isPal(s[1:-1])\n",
    "    return isPal(toChars(s))\n",
    "print(isPalindrome(\"Bob\"))"
   ]
  },
  {
   "attachments": {},
   "cell_type": "markdown",
   "metadata": {},
   "source": [
    "## Divide and Conquer\n",
    "* an example of a \"divide and conquer\" algorithm\n",
    "* solve a hard problem by breaking it into a set of sub-problems such that:\n",
    "    * sub-problems are easier to solve than the original\n",
    "    * solutions of the sub-problems can be combine to solve the original"
   ]
  }
 ],
 "metadata": {
  "kernelspec": {
   "display_name": "base",
   "language": "python",
   "name": "python3"
  },
  "language_info": {
   "codemirror_mode": {
    "name": "ipython",
    "version": 3
   },
   "file_extension": ".py",
   "mimetype": "text/x-python",
   "name": "python",
   "nbconvert_exporter": "python",
   "pygments_lexer": "ipython3",
   "version": "3.9.12"
  },
  "orig_nbformat": 4,
  "vscode": {
   "interpreter": {
    "hash": "c21f4b550d44dd8da30efeda0f3fb842b1394f99ed710ddf513c5093383f4f73"
   }
  }
 },
 "nbformat": 4,
 "nbformat_minor": 2
}
