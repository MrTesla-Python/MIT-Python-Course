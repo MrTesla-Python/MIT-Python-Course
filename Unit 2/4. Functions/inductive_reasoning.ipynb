{
 "cells": [
  {
   "attachments": {},
   "cell_type": "markdown",
   "metadata": {},
   "source": [
    "## Inductive Reasoning\n",
    "* How do we know that our recursive code will work?\n",
    "* *mult_iter* terminates because b is initially positive, and decreases by 1 each time around loop; thus must eventually become less than 1\n",
    "* *mult* called with b = 1 has no recursive call and stops\n",
    "* *mult* called with b>1 makes a recursive call with a smaller version of b; must eventually reach call with b = 1"
   ]
  },
  {
   "cell_type": "code",
   "execution_count": 1,
   "metadata": {},
   "outputs": [
    {
     "data": {
      "text/plain": [
       "6"
      ]
     },
     "execution_count": 1,
     "metadata": {},
     "output_type": "execute_result"
    }
   ],
   "source": [
    "# Iterative\n",
    "def mult_iter(a, b):\n",
    "    result = 0\n",
    "    while b > 0:\n",
    "        result += a\n",
    "        b -= 1\n",
    "    return result\n",
    "\n",
    "# Recursive\n",
    "def mult(a, b):\n",
    "    if b == 1:\n",
    "        return a\n",
    "    else:\n",
    "        return a + mult(a,b-1)"
   ]
  },
  {
   "attachments": {},
   "cell_type": "markdown",
   "metadata": {},
   "source": [
    "## Mathematical Induction\n",
    "* To prove a statement indexed on itergers is true for all values of n:\n",
    "* Prove it is true when n is smallest value\n",
    "* Then prove that if it is true for an arbitrary value of n, one can show that it must be true for n+1"
   ]
  },
  {
   "cell_type": "code",
   "execution_count": null,
   "metadata": {},
   "outputs": [],
   "source": [
    "# Relevance to code\n",
    "def mult(a, b):\n",
    "    if b == 1:\n",
    "        return a\n",
    "    else:\n",
    "        return a + mult(a, b-1)\n",
    "\n",
    "# Base case, we can show mult must return correct answer"
   ]
  }
 ],
 "metadata": {
  "kernelspec": {
   "display_name": "base",
   "language": "python",
   "name": "python3"
  },
  "language_info": {
   "codemirror_mode": {
    "name": "ipython",
    "version": 3
   },
   "file_extension": ".py",
   "mimetype": "text/x-python",
   "name": "python",
   "nbconvert_exporter": "python",
   "pygments_lexer": "ipython3",
   "version": "3.9.12"
  },
  "orig_nbformat": 4,
  "vscode": {
   "interpreter": {
    "hash": "c21f4b550d44dd8da30efeda0f3fb842b1394f99ed710ddf513c5093383f4f73"
   }
  }
 },
 "nbformat": 4,
 "nbformat_minor": 2
}
