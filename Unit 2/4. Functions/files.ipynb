{
 "cells": [
  {
   "attachments": {},
   "cell_type": "markdown",
   "metadata": {},
   "source": [
    "## Modules and Files\n",
    "* have assumed that all our code is stored in one file\n",
    "* cumbersome for large collection of code, or for code that should be used by many different pieces of programming\n",
    "* a **module** is a .py file containing a collection of Python definitions and statements"
   ]
  },
  {
   "attachments": {},
   "cell_type": "markdown",
   "metadata": {},
   "source": [
    "## Files\n",
    "* need a way to save our work for later use\n",
    "* every operating system has its own way of handling files; Python provides an operating-system independent means to have access files, using a **file handle** ex nameHandle = open(\"kids\", \"w\")\n",
    "* create a file named *kids* and returns the file handle which we can name and thus reference. The *w* indicates that the file is to be openeded for writing info"
   ]
  }
 ],
 "metadata": {
  "kernelspec": {
   "display_name": "base",
   "language": "python",
   "name": "python3"
  },
  "language_info": {
   "name": "python",
   "version": "3.9.12"
  },
  "orig_nbformat": 4,
  "vscode": {
   "interpreter": {
    "hash": "c21f4b550d44dd8da30efeda0f3fb842b1394f99ed710ddf513c5093383f4f73"
   }
  }
 },
 "nbformat": 4,
 "nbformat_minor": 2
}
