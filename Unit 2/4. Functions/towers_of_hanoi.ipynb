{
 "cells": [
  {
   "attachments": {},
   "cell_type": "markdown",
   "metadata": {},
   "source": [
    "## Towers of Hanoi\n",
    "* The story\n",
    "    * 3 tall spikes\n",
    "    * Stack of 64 different sized sics - start on one spike\n",
    "    * Need to move stack to second spike (at which point universe ends)\n",
    "    * Can only move one disc at a time, and a larger disc can never cover up a small disc"
   ]
  },
  {
   "cell_type": "code",
   "execution_count": 4,
   "metadata": {},
   "outputs": [
    {
     "name": "stdout",
     "output_type": "stream",
     "text": [
      "move from P1 to P3\n",
      "move from P1 to P2\n",
      "move from P3 to P2\n",
      "None\n"
     ]
    }
   ],
   "source": [
    "def printMove(fr, to):\n",
    "    print(\"move from \" + str(fr) + \" to \" + str(to))\n",
    "\n",
    "def Towers(n, fr, to, spare):\n",
    "    if n == 1:\n",
    "        printMove(fr, to)\n",
    "    else:\n",
    "        Towers(n-1, fr, spare, to)\n",
    "        Towers(1, fr, to, spare)\n",
    "        Towers(n-1, spare, to, fr)\n",
    "print(Towers(2, \"P1\", \"P2\", \"P3\"))"
   ]
  }
 ],
 "metadata": {
  "kernelspec": {
   "display_name": "base",
   "language": "python",
   "name": "python3"
  },
  "language_info": {
   "codemirror_mode": {
    "name": "ipython",
    "version": 3
   },
   "file_extension": ".py",
   "mimetype": "text/x-python",
   "name": "python",
   "nbconvert_exporter": "python",
   "pygments_lexer": "ipython3",
   "version": "3.9.12"
  },
  "orig_nbformat": 4,
  "vscode": {
   "interpreter": {
    "hash": "c21f4b550d44dd8da30efeda0f3fb842b1394f99ed710ddf513c5093383f4f73"
   }
  }
 },
 "nbformat": 4,
 "nbformat_minor": 2
}
