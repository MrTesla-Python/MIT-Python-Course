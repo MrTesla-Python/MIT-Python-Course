{
 "cells": [
  {
   "cell_type": "code",
   "execution_count": null,
   "metadata": {},
   "outputs": [],
   "source": [
    "s = \"abcdefghi\"\n",
    "for index in range(len(s)):\n",
    "    if s[index] == 'i' or s[index] == 'u':\n",
    "        print(\"There is an i or u\")"
   ]
  },
  {
   "cell_type": "code",
   "execution_count": null,
   "metadata": {},
   "outputs": [],
   "source": [
    "for char in s:\n",
    "    if char == 'i' or char == 'u':\n",
    "        print(\"There is an i or u\")"
   ]
  }
 ],
 "metadata": {
  "kernelspec": {
   "display_name": "base",
   "language": "python",
   "name": "python3"
  },
  "language_info": {
   "name": "python",
   "version": "3.9.12"
  },
  "orig_nbformat": 4,
  "vscode": {
   "interpreter": {
    "hash": "c21f4b550d44dd8da30efeda0f3fb842b1394f99ed710ddf513c5093383f4f73"
   }
  }
 },
 "nbformat": 4,
 "nbformat_minor": 2
}
