{
 "cells": [
  {
   "cell_type": "code",
   "execution_count": 4,
   "metadata": {},
   "outputs": [
    {
     "name": "stdout",
     "output_type": "stream",
     "text": [
      "low = 0.0 high = 25 ans = 12.5\n",
      "low = 0.0 high = 12.5 ans = 6.25\n",
      "low = 0.0 high = 6.25 ans = 3.125\n",
      "low = 3.125 high = 6.25 ans = 4.6875\n",
      "low = 4.6875 high = 6.25 ans = 5.46875\n",
      "low = 4.6875 high = 5.46875 ans = 5.078125\n",
      "low = 4.6875 high = 5.078125 ans = 4.8828125\n",
      "low = 4.8828125 high = 5.078125 ans = 4.98046875\n",
      "low = 4.98046875 high = 5.078125 ans = 5.029296875\n",
      "low = 4.98046875 high = 5.029296875 ans = 5.0048828125\n",
      "low = 4.98046875 high = 5.0048828125 ans = 4.99267578125\n",
      "low = 4.99267578125 high = 5.0048828125 ans = 4.998779296875\n",
      "low = 4.998779296875 high = 5.0048828125 ans = 5.0018310546875\n",
      "numGuesses = 13\n",
      "5.00030517578125 is close to the square root of 25\n"
     ]
    }
   ],
   "source": [
    "x = 25\n",
    "epsilon = 0.01\n",
    "numGuesses = 0\n",
    "low = 0.0\n",
    "high = x\n",
    "ans = (high+low)/2.0\n",
    "\n",
    "while abs(ans**2 - x) >= epsilon:\n",
    "    print(\"low = \" + str(low) + \" high = \" + str(high) + \" ans = \" + str(ans))\n",
    "    numGuesses+=1\n",
    "    if ans**2 < x:\n",
    "        low = ans\n",
    "    else:\n",
    "        high = ans\n",
    "    ans = (high+low)/2.0\n",
    "print(\"numGuesses = \" + str(numGuesses))\n",
    "print(str(ans) + \" is close to the square root of \" + str(x))"
   ]
  },
  {
   "cell_type": "code",
   "execution_count": 1,
   "metadata": {},
   "outputs": [
    {
     "name": "stdout",
     "output_type": "stream",
     "text": [
      "low = 0.0 high = 24 ans = 12.0\n",
      "low = 0.0 high = 12.0 ans = 6.0\n",
      "low = 0.0 high = 6.0 ans = 3.0\n",
      "low = 0.0 high = 3.0 ans = 1.5\n",
      "low = 1.5 high = 3.0 ans = 2.25\n",
      "low = 2.25 high = 3.0 ans = 2.625\n",
      "low = 2.625 high = 3.0 ans = 2.8125\n",
      "low = 2.8125 high = 3.0 ans = 2.90625\n",
      "low = 2.8125 high = 2.90625 ans = 2.859375\n",
      "low = 2.859375 high = 2.90625 ans = 2.8828125\n",
      "low = 2.8828125 high = 2.90625 ans = 2.89453125\n",
      "low = 2.8828125 high = 2.89453125 ans = 2.888671875\n",
      "low = 2.8828125 high = 2.888671875 ans = 2.8857421875\n",
      "numGuesses = 13\n",
      "2.88427734375 is close to the square root of 24\n"
     ]
    }
   ],
   "source": [
    "x = 24\n",
    "epsilon = 0.01\n",
    "numGuesses = 0\n",
    "low = 0.0\n",
    "high = x\n",
    "ans = (high+low)/2.0\n",
    "\n",
    "while abs(ans**3 - x) >= epsilon:\n",
    "    print(\"low = \" + str(low) + \" high = \" + str(high) + \" ans = \" + str(ans))\n",
    "    numGuesses+=1\n",
    "    if ans**3 < x:\n",
    "        low = ans\n",
    "    else:\n",
    "        high = ans\n",
    "    ans = (high+low)/2.0\n",
    "print(\"numGuesses = \" + str(numGuesses))\n",
    "print(str(ans) + \" is close to the square root of \" + str(x))"
   ]
  },
  {
   "cell_type": "code",
   "execution_count": 8,
   "metadata": {},
   "outputs": [
    {
     "name": "stdout",
     "output_type": "stream",
     "text": [
      "low = -27 high = 0 ans = -13.5\n",
      "low = -13.5 high = 0 ans = -6.75\n",
      "low = -6.75 high = 0 ans = -3.375\n",
      "low = -3.375 high = 0 ans = -1.6875\n",
      "low = -3.375 high = -1.6875 ans = -2.53125\n",
      "low = -3.375 high = -2.53125 ans = -2.953125\n",
      "low = -3.375 high = -2.953125 ans = -3.1640625\n",
      "low = -3.1640625 high = -2.953125 ans = -3.05859375\n",
      "low = -3.05859375 high = -2.953125 ans = -3.005859375\n",
      "low = -3.005859375 high = -2.953125 ans = -2.9794921875\n",
      "low = -3.005859375 high = -2.9794921875 ans = -2.99267578125\n",
      "low = -3.005859375 high = -2.99267578125 ans = -2.999267578125\n",
      "low = -3.005859375 high = -2.999267578125 ans = -3.0025634765625\n",
      "low = -3.0025634765625 high = -2.999267578125 ans = -3.00091552734375\n",
      "numGuesses = 14\n",
      "-3.000091552734375 is close to the square root of -27\n"
     ]
    }
   ],
   "source": [
    "x = -27\n",
    "epsilon = 0.01\n",
    "numGuesses = 0\n",
    "low = x\n",
    "high = 0.0\n",
    "ans = (high+low)/2.0\n",
    "\n",
    "while abs(ans**3 - x) >= epsilon:\n",
    "    print(\"low = \" + str(low) + \" high = \" + str(high) + \" ans = \" + str(ans))\n",
    "    numGuesses+=1\n",
    "    if ans**3 < x:\n",
    "        low = ans\n",
    "    else:\n",
    "        high = ans\n",
    "    ans = (high+low)/2.0\n",
    "print(\"numGuesses = \" + str(numGuesses))\n",
    "print(str(ans) + \" is close to the square root of \" + str(x))"
   ]
  }
 ],
 "metadata": {
  "kernelspec": {
   "display_name": "base",
   "language": "python",
   "name": "python3"
  },
  "language_info": {
   "codemirror_mode": {
    "name": "ipython",
    "version": 3
   },
   "file_extension": ".py",
   "mimetype": "text/x-python",
   "name": "python",
   "nbconvert_exporter": "python",
   "pygments_lexer": "ipython3",
   "version": "3.9.12"
  },
  "orig_nbformat": 4,
  "vscode": {
   "interpreter": {
    "hash": "c21f4b550d44dd8da30efeda0f3fb842b1394f99ed710ddf513c5093383f4f73"
   }
  }
 },
 "nbformat": 4,
 "nbformat_minor": 2
}
