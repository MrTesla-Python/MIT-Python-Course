{
 "cells": [
  {
   "attachments": {},
   "cell_type": "markdown",
   "metadata": {},
   "source": [
    "## Internally, computer represents numbers in binary\n",
    "* Decimal Number\n",
    "    * 302 = 3x10^2 + 0x10^1 + 2x10^0\n",
    "* Binary Number\n",
    "    * 1011 = 1x2^4 + 0x2^3 + 0x2^3 + 1x2^1 + 1x2^0\n",
    "    * (which in decimal is 16 + 2 + 1 = 19)"
   ]
  },
  {
   "cell_type": "code",
   "execution_count": 8,
   "metadata": {},
   "outputs": [
    {
     "name": "stdout",
     "output_type": "stream",
     "text": [
      "1011\n"
     ]
    }
   ],
   "source": [
    "# Converts Intergers to binary\n",
    "num = 11\n",
    "if num < 0:\n",
    "    isNeg = True\n",
    "    num = abs(num)\n",
    "else:\n",
    "    isNeg = False\n",
    "result = ''\n",
    "if num == 0:\n",
    "    result = \"0\"\n",
    "while num > 0:\n",
    "    result = str(num%2) + result\n",
    "    num = num//2\n",
    "if isNeg:\n",
    "    result = \"-\" + result\n",
    "print(result)"
   ]
  },
  {
   "cell_type": "code",
   "execution_count": 9,
   "metadata": {},
   "outputs": [
    {
     "name": "stdout",
     "output_type": "stream",
     "text": [
      "Remainder = 0.1\n",
      "Remainder = 0.2\n",
      "Remainder = 0.4\n",
      "Remainder = 0.8\n",
      "Remainder = 0.6000000000000001\n",
      "Remainder = 0.20000000000000018\n",
      "Remainder = 0.40000000000000036\n",
      "Remainder = 0.8000000000000007\n",
      "Remainder = 0.6000000000000014\n",
      "Remainder = 0.20000000000000284\n",
      "Remainder = 0.4000000000000057\n",
      "Remainder = 0.8000000000000114\n",
      "Remainder = 0.6000000000000227\n",
      "Remainder = 0.20000000000004547\n",
      "Remainder = 0.40000000000009095\n",
      "Remainder = 0.8000000000001819\n",
      "Remainder = 0.6000000000003638\n",
      "Remainder = 0.2000000000007276\n",
      "Remainder = 0.4000000000014552\n",
      "Remainder = 0.8000000000029104\n",
      "Remainder = 0.6000000000058208\n",
      "Remainder = 0.20000000001164153\n",
      "Remainder = 0.40000000002328306\n",
      "Remainder = 0.8000000000465661\n",
      "Remainder = 0.6000000000931323\n",
      "Remainder = 0.20000000018626451\n",
      "Remainder = 0.40000000037252903\n",
      "Remainder = 0.8000000007450581\n",
      "Remainder = 0.6000000014901161\n",
      "Remainder = 0.20000000298023224\n",
      "Remainder = 0.4000000059604645\n",
      "Remainder = 0.800000011920929\n",
      "Remainder = 0.6000000238418579\n",
      "Remainder = 0.20000004768371582\n",
      "Remainder = 0.40000009536743164\n",
      "Remainder = 0.8000001907348633\n",
      "Remainder = 0.6000003814697266\n",
      "Remainder = 0.20000076293945312\n",
      "Remainder = 0.40000152587890625\n",
      "Remainder = 0.8000030517578125\n",
      "Remainder = 0.600006103515625\n",
      "Remainder = 0.20001220703125\n",
      "Remainder = 0.4000244140625\n",
      "Remainder = 0.800048828125\n",
      "Remainder = 0.60009765625\n",
      "Remainder = 0.2001953125\n",
      "Remainder = 0.400390625\n",
      "Remainder = 0.80078125\n",
      "Remainder = 0.6015625\n",
      "Remainder = 0.203125\n",
      "Remainder = 0.40625\n",
      "Remainder = 0.8125\n",
      "Remainder = 0.625\n",
      "Remainder = 0.25\n",
      "Remainder = 0.5\n",
      "The binary representation of the decimal 0.1 is .0001100110011001100110011001100110011001100110011001101\n"
     ]
    }
   ],
   "source": [
    "# Converts floats to binary\n",
    "x = float(input(\"Enter a number between 0 and 1: \"))\n",
    "p = 0\n",
    "while ((2**p)*x)%1 != 0:\n",
    "    print(\"Remainder = \" + str((2**p)*x - int((2**p)*x)))\n",
    "    p += 1\n",
    "\n",
    "num = int(x*(2**p))\n",
    "\n",
    "result = \"\"\n",
    "if num == 0:\n",
    "    result = \"0\"\n",
    "while num > 0:\n",
    "    result = str(num%2) + result\n",
    "    num = num//2\n",
    "\n",
    "for i in range(p - len(result)):\n",
    "    result = \"0\" + result\n",
    "\n",
    "result = result[0:-p] + \".\" + result[-p:]\n",
    "print(\"The binary representation of the decimal \" + str(x) + \" is \" + str(result))\n"
   ]
  }
 ],
 "metadata": {
  "kernelspec": {
   "display_name": "base",
   "language": "python",
   "name": "python3"
  },
  "language_info": {
   "codemirror_mode": {
    "name": "ipython",
    "version": 3
   },
   "file_extension": ".py",
   "mimetype": "text/x-python",
   "name": "python",
   "nbconvert_exporter": "python",
   "pygments_lexer": "ipython3",
   "version": "3.9.12"
  },
  "orig_nbformat": 4,
  "vscode": {
   "interpreter": {
    "hash": "c21f4b550d44dd8da30efeda0f3fb842b1394f99ed710ddf513c5093383f4f73"
   }
  }
 },
 "nbformat": 4,
 "nbformat_minor": 2
}
