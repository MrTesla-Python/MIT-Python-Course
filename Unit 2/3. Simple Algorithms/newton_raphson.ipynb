{
 "cells": [
  {
   "attachments": {},
   "cell_type": "markdown",
   "metadata": {},
   "source": [
    "## Newton-Raphson\n",
    "* General approximation algorithm to find roots of a polynomial in one variable\n",
    "* Want to find r such that such that p(r) = 0\n",
    "* For example, to find the square root of 24, find the root of p(x) = x^2-24\n",
    "* Newton showed that if g is an approximation to the root, then g-p(g)/p'(g)\n",
    "is a better approximation; where p' is the derivative of p"
   ]
  },
  {
   "attachments": {},
   "cell_type": "markdown",
   "metadata": {},
   "source": [
    "* Simple case cx^2 + k\n",
    "* First derivative: 2cx\n",
    "* So if polynomial is x^2 +k, then derivative is 2x\n",
    "* Newton-Raphson says given a guess g for root, a better guess is g-(g^2-k)/2g"
   ]
  },
  {
   "cell_type": "code",
   "execution_count": 4,
   "metadata": {},
   "outputs": [
    {
     "name": "stdout",
     "output_type": "stream",
     "text": [
      "numGuesses = 4\n",
      "Square root of 24.0 is about 4.8989887432139305\n"
     ]
    }
   ],
   "source": [
    "# Newton-Raphson in code\n",
    "epsilon = 0.01\n",
    "y = 24.0\n",
    "guess = y/2.0\n",
    "numGuesses = 0\n",
    "\n",
    "while abs(guess*guess - y) >= epsilon:\n",
    "    numGuesses += 1\n",
    "    guess = guess - (((guess**2)-y)/(2*guess))\n",
    "print(\"numGuesses = \" + str(numGuesses))\n",
    "print(\"Square root of \" + str(y) + \" is about \" + str(guess))"
   ]
  },
  {
   "attachments": {},
   "cell_type": "markdown",
   "metadata": {},
   "source": [
    "## Iterative algorithms\n",
    "* Guess and check methods build on reusing same code\n",
    "    * Use a looping construct to generate guesses, then check and continue\n",
    "* Generating guesses\n",
    "    * Exhaustive enumeration\n",
    "    * Bisection search\n",
    "    * Newton-Raphson (for root finding)"
   ]
  }
 ],
 "metadata": {
  "kernelspec": {
   "display_name": "base",
   "language": "python",
   "name": "python3"
  },
  "language_info": {
   "codemirror_mode": {
    "name": "ipython",
    "version": 3
   },
   "file_extension": ".py",
   "mimetype": "text/x-python",
   "name": "python",
   "nbconvert_exporter": "python",
   "pygments_lexer": "ipython3",
   "version": "3.9.12"
  },
  "orig_nbformat": 4,
  "vscode": {
   "interpreter": {
    "hash": "c21f4b550d44dd8da30efeda0f3fb842b1394f99ed710ddf513c5093383f4f73"
   }
  }
 },
 "nbformat": 4,
 "nbformat_minor": 2
}
