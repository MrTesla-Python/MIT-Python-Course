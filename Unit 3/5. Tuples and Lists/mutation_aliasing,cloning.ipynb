{
 "cells": [
  {
   "cell_type": "markdown",
   "metadata": {},
   "source": [
    "## Mutation, Aliasing, Cloning"
   ]
  },
  {
   "attachments": {},
   "cell_type": "markdown",
   "metadata": {},
   "source": [
    "## Lists in memory\n",
    "* lists are **mutable**\n",
    "* behave differently then immutable types\n",
    "* is an object in memory\n",
    "* variable name points to an object\n",
    "* any variable pointing to that object is affected\n",
    "* key phrase to keep in wind when working with lists is **side effects**"
   ]
  },
  {
   "attachments": {},
   "cell_type": "markdown",
   "metadata": {},
   "source": [
    "## An analogy\n",
    "* attribution of a person\n",
    "    * singer, rich\n",
    "* he is known by many names\n",
    "* all nicknames point to the **same person** \n",
    "    * add new attribute to **one nickname**\n",
    "        Justin Bieber; sing, rich, troublemaker\n",
    "    * **all his nicknames** refer to old attributes AND all new ones"
   ]
  },
  {
   "attachments": {},
   "cell_type": "markdown",
   "metadata": {},
   "source": [
    "## Aliases\n",
    "* hot is an **alias** for warm - changing one changes the other\n",
    "* append() has a side effect"
   ]
  },
  {
   "cell_type": "code",
   "execution_count": 2,
   "metadata": {},
   "outputs": [
    {
     "data": {
      "text/plain": [
       "['red, yellow', 'orange', 'blue']"
      ]
     },
     "execution_count": 2,
     "metadata": {},
     "output_type": "execute_result"
    }
   ],
   "source": [
    "warm = [\"red, yellow\", \"orange\"]\n",
    "hot = warm\n",
    "hot.append(\"blue\")\n",
    "warm"
   ]
  },
  {
   "attachments": {},
   "cell_type": "markdown",
   "metadata": {},
   "source": [
    "## Print is not ==\n",
    "* if two lists print the same thing, does not mean they are the same structure\n",
    "* can test by mutating one, and checking"
   ]
  },
  {
   "cell_type": "code",
   "execution_count": 4,
   "metadata": {},
   "outputs": [
    {
     "name": "stdout",
     "output_type": "stream",
     "text": [
      "['blue', 'green', 'grey']\n",
      "['blue', 'green', 'grey']\n"
     ]
    }
   ],
   "source": [
    "cool = [\"blue\", \"green\", \"grey\"]\n",
    "chill = [\"blue\", \"green\", \"grey\"]\n",
    "print(cool)\n",
    "print(chill)"
   ]
  },
  {
   "cell_type": "code",
   "execution_count": 5,
   "metadata": {},
   "outputs": [
    {
     "name": "stdout",
     "output_type": "stream",
     "text": [
      "['blue', 'green', 'grey']\n",
      "['blue', 'green', 'blue']\n"
     ]
    }
   ],
   "source": [
    "chill[2] = \"blue\"\n",
    "print(cool)\n",
    "print(chill)"
   ]
  },
  {
   "attachments": {},
   "cell_type": "markdown",
   "metadata": {},
   "source": [
    "## Cloning a list\n",
    "* create a new list and **copy every element**"
   ]
  },
  {
   "cell_type": "code",
   "execution_count": 6,
   "metadata": {},
   "outputs": [],
   "source": [
    "cool = [\"blue\", \"green\", \"grey\"]\n",
    "chil = cool[:]"
   ]
  },
  {
   "cell_type": "code",
   "execution_count": 7,
   "metadata": {},
   "outputs": [
    {
     "name": "stdout",
     "output_type": "stream",
     "text": [
      "['blue', 'green', 'blue', 'black']\n",
      "['blue', 'green', 'grey']\n"
     ]
    }
   ],
   "source": [
    "chill.append(\"black\")\n",
    "print(chill)\n",
    "print(cool)"
   ]
  },
  {
   "attachments": {},
   "cell_type": "markdown",
   "metadata": {},
   "source": [
    "## Sorting Lists\n",
    "* calling sort() **mutates** the list, returns nothing\n",
    "* calling sorted() **does not mutate** list, must assign result to a variable"
   ]
  },
  {
   "cell_type": "code",
   "execution_count": 9,
   "metadata": {},
   "outputs": [
    {
     "name": "stdout",
     "output_type": "stream",
     "text": [
      "['orange', 'red', 'yellow']\n",
      "None\n"
     ]
    }
   ],
   "source": [
    "warm = [\"red\", \"yellow\", \"orange\"]\n",
    "sorted_warm = warm.sort()\n",
    "print(warm)\n",
    "print(sorted_warm)"
   ]
  },
  {
   "cell_type": "code",
   "execution_count": 10,
   "metadata": {},
   "outputs": [
    {
     "name": "stdout",
     "output_type": "stream",
     "text": [
      "['grey', 'green', 'blue']\n",
      "['blue', 'green', 'grey']\n"
     ]
    }
   ],
   "source": [
    "cool = [\"grey\", \"green\", \"blue\"]\n",
    "sorted_cool = sorted(cool)\n",
    "print(cool)\n",
    "print(sorted_cool)"
   ]
  },
  {
   "cell_type": "markdown",
   "metadata": {},
   "source": [
    "## Lists of Lists\n",
    "* can have **nested lists**\n",
    "* side effects still possible after mutation"
   ]
  },
  {
   "cell_type": "code",
   "execution_count": 15,
   "metadata": {},
   "outputs": [
    {
     "name": "stdout",
     "output_type": "stream",
     "text": [
      "['yellow', 'orange']\n",
      "['red']\n",
      "[['yellow', 'orange']]\n"
     ]
    }
   ],
   "source": [
    "warm = ['yellow', \"orange\"]\n",
    "hot = [\"red\"]\n",
    "bright_colors = [warm]\n",
    "print(warm)\n",
    "print(hot)\n",
    "print(bright_colors)"
   ]
  },
  {
   "cell_type": "code",
   "execution_count": 16,
   "metadata": {},
   "outputs": [
    {
     "data": {
      "text/plain": [
       "[['yellow', 'orange'], ['red']]"
      ]
     },
     "execution_count": 16,
     "metadata": {},
     "output_type": "execute_result"
    }
   ],
   "source": [
    "bright_colors.append(hot)\n",
    "bright_colors"
   ]
  },
  {
   "cell_type": "code",
   "execution_count": 17,
   "metadata": {},
   "outputs": [
    {
     "name": "stdout",
     "output_type": "stream",
     "text": [
      "[['yellow', 'orange', 'yellow'], ['red']]\n"
     ]
    }
   ],
   "source": [
    "warm.append(\"yellow\")\n",
    "print(bright_colors)"
   ]
  },
  {
   "cell_type": "code",
   "execution_count": 20,
   "metadata": {},
   "outputs": [
    {
     "name": "stdout",
     "output_type": "stream",
     "text": [
      "[2, 3, 4]\n"
     ]
    }
   ],
   "source": [
    "def remove_dups(L1, L2):\n",
    "    for e in L1:\n",
    "        if e in L2:\n",
    "            L1.remove(e)\n",
    "L1 = [1,2,3,4]\n",
    "L2 = [1,2,5,6]\n",
    "remove_dups(L1,L2)\n",
    "print(L1)"
   ]
  },
  {
   "attachments": {},
   "cell_type": "markdown",
   "metadata": {},
   "source": [
    "## Mutation and Iteration\n",
    "* **avoid** mutating a list as you are iterating over it\n",
    "* Python uses an internal counter to keep track of index it is in the loop\n",
    "* mutating changes the list length but Python doesn't update the counter\n",
    "* loop never sees element 2"
   ]
  },
  {
   "cell_type": "code",
   "execution_count": 22,
   "metadata": {},
   "outputs": [
    {
     "name": "stdout",
     "output_type": "stream",
     "text": [
      "[3, 4]\n"
     ]
    }
   ],
   "source": [
    "# Correct way\n",
    "def remove_dups(L1, L2):\n",
    "    L1_copy = L1[:]\n",
    "    for e in L1_copy:\n",
    "        if e in L2:\n",
    "            L1.remove(e)\n",
    "L1 = [1,2,3,4]\n",
    "L2 = [1,2,5,6]\n",
    "remove_dups(L1,L2)\n",
    "print(L1)"
   ]
  }
 ],
 "metadata": {
  "kernelspec": {
   "display_name": "base",
   "language": "python",
   "name": "python3"
  },
  "language_info": {
   "codemirror_mode": {
    "name": "ipython",
    "version": 3
   },
   "file_extension": ".py",
   "mimetype": "text/x-python",
   "name": "python",
   "nbconvert_exporter": "python",
   "pygments_lexer": "ipython3",
   "version": "3.9.12"
  },
  "orig_nbformat": 4,
  "vscode": {
   "interpreter": {
    "hash": "c21f4b550d44dd8da30efeda0f3fb842b1394f99ed710ddf513c5093383f4f73"
   }
  }
 },
 "nbformat": 4,
 "nbformat_minor": 2
}
