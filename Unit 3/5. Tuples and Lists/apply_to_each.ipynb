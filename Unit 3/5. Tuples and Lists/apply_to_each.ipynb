{
 "cells": [
  {
   "cell_type": "code",
   "execution_count": 1,
   "metadata": {},
   "outputs": [],
   "source": [
    "def applyToEach(L, f):\n",
    "    for i in range(len(L)):\n",
    "        L[i] = f(L[i])"
   ]
  },
  {
   "cell_type": "code",
   "execution_count": 8,
   "metadata": {},
   "outputs": [
    {
     "name": "stdout",
     "output_type": "stream",
     "text": [
      "[1, 4, 8, 9]\n"
     ]
    }
   ],
   "source": [
    "testList = [1, -4, 8, -9]\n",
    "def absolute(a):\n",
    "    return abs(a)\n",
    "applyToEach(testList, absolute)\n",
    "print(testList)"
   ]
  },
  {
   "cell_type": "code",
   "execution_count": 12,
   "metadata": {},
   "outputs": [
    {
     "name": "stdout",
     "output_type": "stream",
     "text": [
      "[2, -3, 9, -8]\n"
     ]
    }
   ],
   "source": [
    "testList = [1, -4, 8, -9]\n",
    "def plus_one(a):\n",
    "    return a+1\n",
    "applyToEach(testList, plus_one)\n",
    "print(testList)"
   ]
  },
  {
   "cell_type": "code",
   "execution_count": 13,
   "metadata": {},
   "outputs": [
    {
     "name": "stdout",
     "output_type": "stream",
     "text": [
      "[1, 16, 64, 81]\n"
     ]
    }
   ],
   "source": [
    "testList = [1, -4, 8, -9]\n",
    "def square(a):\n",
    "    return a**2\n",
    "applyToEach(testList, square)\n",
    "print(testList)"
   ]
  }
 ],
 "metadata": {
  "kernelspec": {
   "display_name": "base",
   "language": "python",
   "name": "python3"
  },
  "language_info": {
   "codemirror_mode": {
    "name": "ipython",
    "version": 3
   },
   "file_extension": ".py",
   "mimetype": "text/x-python",
   "name": "python",
   "nbconvert_exporter": "python",
   "pygments_lexer": "ipython3",
   "version": "3.9.12"
  },
  "orig_nbformat": 4,
  "vscode": {
   "interpreter": {
    "hash": "c21f4b550d44dd8da30efeda0f3fb842b1394f99ed710ddf513c5093383f4f73"
   }
  }
 },
 "nbformat": 4,
 "nbformat_minor": 2
}
