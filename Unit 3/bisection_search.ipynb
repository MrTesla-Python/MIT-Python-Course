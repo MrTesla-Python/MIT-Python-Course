{
 "cells": [
  {
   "cell_type": "code",
   "execution_count": null,
   "metadata": {},
   "outputs": [],
   "source": []
  }
 ],
 "metadata": {
  "kernelspec": {
   "display_name": "Python 3",
   "language": "python",
   "name": "python3"
  },
  "language_info": {
   "name": "python",
   "version": "3.10.7"
  },
  "orig_nbformat": 4,
  "vscode": {
   "interpreter": {
    "hash": "a5de64471995492ddc618a58ecdfb7a4b97e4a4f9afd41641e70cf3b1dd10a09"
   }
  }
 },
 "nbformat": 4,
 "nbformat_minor": 2
}
