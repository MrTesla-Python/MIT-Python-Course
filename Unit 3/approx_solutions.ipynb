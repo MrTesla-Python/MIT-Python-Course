{
 "cells": [
  {
   "cell_type": "code",
   "execution_count": 1,
   "metadata": {},
   "outputs": [
    {
     "name": "stdout",
     "output_type": "stream",
     "text": [
      "num_guesses = 2000\n",
      "1.9999999999998905 is close to the cube root of 8\n"
     ]
    }
   ],
   "source": [
    "cube = 8\n",
    "epsilon = 0.01\n",
    "guess = 0.0\n",
    "increment = 0.001\n",
    "num_guesses = 0\n",
    "while abs(guess**3 - cube) >= epsilon:\n",
    "    guess += increment\n",
    "    num_guesses += 1\n",
    "print('num_guesses =', num_guesses)\n",
    "if abs(guess**3 - cube) >= epsilon:\n",
    "    print(\"Failed on cube root of\", cube)\n",
    "else:\n",
    "    print(guess, \"is close to the cube root of\", cube)"
   ]
  },
  {
   "cell_type": "code",
   "execution_count": 2,
   "metadata": {},
   "outputs": [
    {
     "name": "stdout",
     "output_type": "stream",
     "text": [
      "failed\n"
     ]
    }
   ],
   "source": [
    "x = 23\n",
    "epsilon = 0.01\n",
    "step = 0.1\n",
    "guess = 0.0\n",
    "\n",
    "while abs(guess**2-x) >= epsilon:\n",
    "    if guess <= x:\n",
    "        guess += step\n",
    "    else:\n",
    "        break\n",
    "\n",
    "if abs(guess**2 - x) >= epsilon:\n",
    "    print('failed')\n",
    "else:\n",
    "    print('succeeded: ' + str(guess))"
   ]
  }
 ],
 "metadata": {
  "kernelspec": {
   "display_name": "Python 3",
   "language": "python",
   "name": "python3"
  },
  "language_info": {
   "codemirror_mode": {
    "name": "ipython",
    "version": 3
   },
   "file_extension": ".py",
   "mimetype": "text/x-python",
   "name": "python",
   "nbconvert_exporter": "python",
   "pygments_lexer": "ipython3",
   "version": "3.10.7"
  },
  "orig_nbformat": 4,
  "vscode": {
   "interpreter": {
    "hash": "a5de64471995492ddc618a58ecdfb7a4b97e4a4f9afd41641e70cf3b1dd10a09"
   }
  }
 },
 "nbformat": 4,
 "nbformat_minor": 2
}
