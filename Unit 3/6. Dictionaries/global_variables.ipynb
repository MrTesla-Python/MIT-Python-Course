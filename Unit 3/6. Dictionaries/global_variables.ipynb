{
 "cells": [
  {
   "attachments": {},
   "cell_type": "markdown",
   "metadata": {},
   "source": [
    "## Global Variables\n",
    "* canbe dangerous to use\n",
    "    * breaks the scoping of variables by function call\n",
    "    * allows for side effects of changing variable values in ways that affect other computation\n",
    "* but can be convenient when want to keep track of information inside a function\n",
    "\n",
    "* example - measuring how often fib and fib_efficient are called"
   ]
  },
  {
   "cell_type": "code",
   "execution_count": 16,
   "metadata": {},
   "outputs": [
    {
     "name": "stdout",
     "output_type": "stream",
     "text": [
      "165580141 204668309\n"
     ]
    }
   ],
   "source": [
    "numFibCalls = 0\n",
    "def fib(n):\n",
    "    global numFibCalls\n",
    "    numFibCalls+=1\n",
    "    if n == 1:\n",
    "        return 1\n",
    "    elif n == 2:\n",
    "        return 2\n",
    "    else:\n",
    "        return fib(n-1)+fib(n-2)\n",
    "print(fib(40), numFibCalls)"
   ]
  },
  {
   "cell_type": "code",
   "execution_count": 17,
   "metadata": {},
   "outputs": [
    {
     "name": "stdout",
     "output_type": "stream",
     "text": [
      "165580141 77\n"
     ]
    }
   ],
   "source": [
    "numFibCalls = 0\n",
    "def fibef(n, d):\n",
    "    global numFibCalls\n",
    "    numFibCalls+=1\n",
    "    if n in d:\n",
    "        return d[n]\n",
    "    else:\n",
    "        ans = fibef(n-1,d)+fibef(n-2,d)\n",
    "        d[n] = ans\n",
    "        return ans\n",
    "d = {1:1, 2:2}\n",
    "print(fibef(40, d), numFibCalls)"
   ]
  }
 ],
 "metadata": {
  "kernelspec": {
   "display_name": "base",
   "language": "python",
   "name": "python3"
  },
  "language_info": {
   "codemirror_mode": {
    "name": "ipython",
    "version": 3
   },
   "file_extension": ".py",
   "mimetype": "text/x-python",
   "name": "python",
   "nbconvert_exporter": "python",
   "pygments_lexer": "ipython3",
   "version": "3.9.12"
  },
  "orig_nbformat": 4,
  "vscode": {
   "interpreter": {
    "hash": "c21f4b550d44dd8da30efeda0f3fb842b1394f99ed710ddf513c5093383f4f73"
   }
  }
 },
 "nbformat": 4,
 "nbformat_minor": 2
}
