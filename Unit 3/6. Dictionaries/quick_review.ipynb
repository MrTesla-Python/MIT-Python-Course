{
 "cells": [
  {
   "attachments": {},
   "cell_type": "markdown",
   "metadata": {},
   "source": [
    "## Strings, Tuples, Ranges, Lists\n",
    "* Common operations\n",
    "    * seq[i] -> ith element of sequence\n",
    "    * len(seq) -> length of sequence\n",
    "    * seq1 + seq2 -> concatenation of sequences (not range)\n",
    "    * n*seq -> sequence that repeats seq n times (not range)\n",
    "    * e in seq -> True if e contained in sequence\n",
    "    * e not in seq -> True if e not in sequence\n",
    "    * for e in seq -> iterate over elements of sequence"
   ]
  }
 ],
 "metadata": {
  "kernelspec": {
   "display_name": "base",
   "language": "python",
   "name": "python3"
  },
  "language_info": {
   "name": "python",
   "version": "3.9.12"
  },
  "orig_nbformat": 4,
  "vscode": {
   "interpreter": {
    "hash": "c21f4b550d44dd8da30efeda0f3fb842b1394f99ed710ddf513c5093383f4f73"
   }
  }
 },
 "nbformat": 4,
 "nbformat_minor": 2
}
