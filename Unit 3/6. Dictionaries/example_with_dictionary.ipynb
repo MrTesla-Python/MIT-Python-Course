{
 "cells": [
  {
   "attachments": {},
   "cell_type": "markdown",
   "metadata": {},
   "source": [
    "## Example: 3 functions to analyze song lyrics\n",
    "1) create a **frequency dictionary** mapping str:int\n",
    "2) find **word that occurs the most** and how many times\n",
    "    * use a list, in case there is more than one word\n",
    "    * return a tuple (list, int) for (words_list, highest_freq)\n",
    "3) find the **words that occur at least X times**\n",
    "    * let user choose \"at least X times\", so allow as parameter\n",
    "    * return a list of tuples, each tuple is a (list, int) containing the list of words ordered by their frequency\n",
    "    * IDEA: from song dictionary, find most frequent word. Delete most common word. Repeat. It works because you are mutating the song dictionary"
   ]
  },
  {
   "cell_type": "code",
   "execution_count": 1,
   "metadata": {},
   "outputs": [],
   "source": [
    "def lyrics_to_frequencies(lyrics):\n",
    "    my_dict = {}\n",
    "    for word in lyrics:\n",
    "        if word in my_dict:\n",
    "            my_dict[word] += 1\n",
    "        else:\n",
    "            my_dict[word] = 1\n",
    "    return my_dict"
   ]
  },
  {
   "cell_type": "code",
   "execution_count": 2,
   "metadata": {},
   "outputs": [],
   "source": [
    "she_loves_you = ['she', 'loves', 'you', 'yeah', 'yeah', 'yeah',\n",
    "'she', 'loves', 'you', 'yeah', 'yeah', 'yeah',\n",
    "'she', 'loves', 'you', 'yeah', 'yeah', 'yeah',\n",
    "\n",
    "'you', 'think', \"you've\", 'lost', 'your', 'love',\n",
    "'well', 'i', 'saw', 'her', 'yesterday-yi-yay',\n",
    "\"it's\", 'you', \"she's\", 'thinking', 'of',\n",
    "'and', 'she', 'told', 'me', 'what', 'to', 'say-yi-yay',\n",
    "\n",
    "'she', 'says', 'she', 'loves', 'you',\n",
    "'and', 'you', 'know', 'that', \"can't\", 'be', 'bad',\n",
    "'yes', 'she', 'loves', 'you',\n",
    "'and', 'you', 'know', 'you', 'should', 'be', 'glad',\n",
    "\n",
    "'she', 'said', 'you', 'hurt', 'her', 'so',\n",
    "'she', 'almost', 'lost', 'her', 'mind',\n",
    "'and', 'now', 'she', 'says', 'she', 'knows',\n",
    "\"you're\", 'not', 'the', 'hurting', 'kind',\n",
    "\n",
    "'she', 'says', 'she', 'loves', 'you',\n",
    "'and', 'you', 'know', 'that', \"can't\", 'be', 'bad',\n",
    "'yes', 'she', 'loves', 'you',\n",
    "'and', 'you', 'know', 'you', 'should', 'be', 'glad',\n",
    "\n",
    "'oo', 'she', 'loves', 'you', 'yeah', 'yeah', 'yeah',\n",
    "'she', 'loves', 'you', 'yeah', 'yeah', 'yeah',\n",
    "'with', 'a', 'love', 'like', 'that',\n",
    "'you', 'know', 'you', 'should', 'be', 'glad',\n",
    "\n",
    "'you', 'know', \"it's\", 'up', 'to', 'you',\n",
    "'i', 'think', \"it's\", 'only', 'fair',\n",
    "'pride', 'can', 'hurt', 'you', 'too',\n",
    "'pologize', 'to', 'her',\n",
    "\n",
    "'Because', 'she', 'loves', 'you',\n",
    "'and', 'you', 'know', 'that', \"can't\", 'be', 'bad',\n",
    "'Yes', 'she', 'loves', 'you',\n",
    "'and', 'you', 'know', 'you', 'should', 'be', 'glad',\n",
    "\n",
    "'oo', 'she', 'loves', 'you', 'yeah', 'yeah', 'yeah',\n",
    "'she', 'loves', 'you', 'yeah', 'yeah', 'yeah',\n",
    "'with', 'a', 'love', 'like', 'that',\n",
    "'you', 'know', 'you', 'should', 'be', 'glad',\n",
    "'with', 'a', 'love', 'like', 'that',\n",
    "'you', 'know', 'you', 'should', 'be', 'glad',\n",
    "'with', 'a', 'love', 'like', 'that',\n",
    "'you', 'know', 'you', 'should', 'be', 'glad',\n",
    "'yeah', 'yeah', 'yeah',\n",
    "'yeah', 'yeah', 'yeah', 'yeah'\n",
    "]"
   ]
  },
  {
   "cell_type": "code",
   "execution_count": 4,
   "metadata": {},
   "outputs": [
    {
     "data": {
      "text/plain": [
       "{'she': 20,\n",
       " 'loves': 13,\n",
       " 'you': 36,\n",
       " 'yeah': 28,\n",
       " 'think': 2,\n",
       " \"you've\": 1,\n",
       " 'lost': 2,\n",
       " 'your': 1,\n",
       " 'love': 5,\n",
       " 'well': 1,\n",
       " 'i': 2,\n",
       " 'saw': 1,\n",
       " 'her': 4,\n",
       " 'yesterday-yi-yay': 1,\n",
       " \"it's\": 3,\n",
       " \"she's\": 1,\n",
       " 'thinking': 1,\n",
       " 'of': 1,\n",
       " 'and': 8,\n",
       " 'told': 1,\n",
       " 'me': 1,\n",
       " 'what': 1,\n",
       " 'to': 3,\n",
       " 'say-yi-yay': 1,\n",
       " 'says': 3,\n",
       " 'know': 11,\n",
       " 'that': 7,\n",
       " \"can't\": 3,\n",
       " 'be': 10,\n",
       " 'bad': 3,\n",
       " 'yes': 2,\n",
       " 'should': 7,\n",
       " 'glad': 7,\n",
       " 'said': 1,\n",
       " 'hurt': 2,\n",
       " 'so': 1,\n",
       " 'almost': 1,\n",
       " 'mind': 1,\n",
       " 'now': 1,\n",
       " 'knows': 1,\n",
       " \"you're\": 1,\n",
       " 'not': 1,\n",
       " 'the': 1,\n",
       " 'hurting': 1,\n",
       " 'kind': 1,\n",
       " 'oo': 2,\n",
       " 'with': 4,\n",
       " 'a': 4,\n",
       " 'like': 4,\n",
       " 'up': 1,\n",
       " 'only': 1,\n",
       " 'fair': 1,\n",
       " 'pride': 1,\n",
       " 'can': 1,\n",
       " 'too': 1,\n",
       " 'pologize': 1,\n",
       " 'Because': 1,\n",
       " 'Yes': 1}"
      ]
     },
     "execution_count": 4,
     "metadata": {},
     "output_type": "execute_result"
    }
   ],
   "source": [
    "beatles = lyrics_to_frequencies(she_loves_you)\n",
    "beatles"
   ]
  },
  {
   "cell_type": "code",
   "execution_count": 10,
   "metadata": {},
   "outputs": [],
   "source": [
    "def most_common_words(freqs):\n",
    "    values = freqs.values()\n",
    "    best = max(values)\n",
    "    words = []\n",
    "    for k in freqs:\n",
    "        if freqs[k] == best:\n",
    "            words.append(k)\n",
    "    return (words, best)"
   ]
  },
  {
   "cell_type": "code",
   "execution_count": 12,
   "metadata": {},
   "outputs": [
    {
     "data": {
      "text/plain": [
       "(['you'], 36)"
      ]
     },
     "execution_count": 12,
     "metadata": {},
     "output_type": "execute_result"
    }
   ],
   "source": [
    "(w, b) = most_common_words(beatles)\n",
    "w, b"
   ]
  },
  {
   "cell_type": "code",
   "execution_count": 15,
   "metadata": {},
   "outputs": [
    {
     "name": "stdout",
     "output_type": "stream",
     "text": [
      "[(['you'], 36), (['yeah'], 28), (['she'], 20), (['loves'], 13), (['know'], 11), (['be'], 10), (['and'], 8), (['that', 'should', 'glad'], 7), (['love'], 5)]\n"
     ]
    }
   ],
   "source": [
    "def words_often(freqs, minTimes):\n",
    "    result = []\n",
    "    done = False\n",
    "    while not done:\n",
    "        temp = most_common_words(freqs)\n",
    "        if temp[1] >= minTimes:\n",
    "            result.append(temp)\n",
    "            for w in temp[0]:\n",
    "                del(freqs[w])\n",
    "        else:\n",
    "            done = True\n",
    "    return result\n",
    "print(words_often(beatles, 5))"
   ]
  }
 ],
 "metadata": {
  "kernelspec": {
   "display_name": "base",
   "language": "python",
   "name": "python3"
  },
  "language_info": {
   "codemirror_mode": {
    "name": "ipython",
    "version": 3
   },
   "file_extension": ".py",
   "mimetype": "text/x-python",
   "name": "python",
   "nbconvert_exporter": "python",
   "pygments_lexer": "ipython3",
   "version": "3.9.12"
  },
  "orig_nbformat": 4,
  "vscode": {
   "interpreter": {
    "hash": "c21f4b550d44dd8da30efeda0f3fb842b1394f99ed710ddf513c5093383f4f73"
   }
  }
 },
 "nbformat": 4,
 "nbformat_minor": 2
}
