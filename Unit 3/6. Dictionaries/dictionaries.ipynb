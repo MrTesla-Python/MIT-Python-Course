{
 "cells": [
  {
   "attachments": {},
   "cell_type": "markdown",
   "metadata": {},
   "source": [
    "# Dictionaries"
   ]
  },
  {
   "attachments": {},
   "cell_type": "markdown",
   "metadata": {},
   "source": [
    "## How to store student info\n",
    "* so far, can store using seperate lists for every info\n"
   ]
  },
  {
   "attachments": {},
   "cell_type": "markdown",
   "metadata": {},
   "source": [
    "## How to update/retrieve student info"
   ]
  },
  {
   "cell_type": "code",
   "execution_count": null,
   "metadata": {},
   "outputs": [],
   "source": [
    "def get_grade(student, name_list, grade_list, course_list):\n",
    "    i = name_list.index(student)\n",
    "    grade = grade_list[i]\n",
    "    course = course_list[i]\n",
    "    return (course, grade)"
   ]
  },
  {
   "attachments": {},
   "cell_type": "markdown",
   "metadata": {},
   "source": [
    "* **messy** if have a lot of different info to keep track of\n",
    "* must maintain **many lists** and pass them as arguments\n",
    "* must **always index** using integers\n",
    "* must remember to change multiple lists"
   ]
  },
  {
   "attachments": {},
   "cell_type": "markdown",
   "metadata": {},
   "source": [
    "## A Better and Cleaner way a dictionary\n",
    "* nice to **index item of interest directly** (not always int)\n",
    "* nice to use **one data structure**, no seperate lists\n"
   ]
  },
  {
   "attachments": {},
   "cell_type": "markdown",
   "metadata": {},
   "source": [
    "## A Python dictionary\n",
    "* store pairs of data\n",
    "    * key\n",
    "    * value\n"
   ]
  },
  {
   "cell_type": "code",
   "execution_count": 23,
   "metadata": {},
   "outputs": [],
   "source": [
    "my_dict = {}\n",
    "grades = {\"Ana\":\"B\", \"John\":\"A+\", \"Denise\":\"A\", \"Katy\":\"A\"}"
   ]
  },
  {
   "cell_type": "code",
   "execution_count": 19,
   "metadata": {},
   "outputs": [
    {
     "data": {
      "text/plain": [
       "'B'"
      ]
     },
     "execution_count": 19,
     "metadata": {},
     "output_type": "execute_result"
    }
   ],
   "source": [
    "grades[\"Ana\"]"
   ]
  },
  {
   "attachments": {},
   "cell_type": "markdown",
   "metadata": {},
   "source": [
    "## Dictionary Operations\n",
    "* **add** an entry\n",
    "* **test** if key in dictionary\n",
    "* **delete** an entry"
   ]
  },
  {
   "cell_type": "code",
   "execution_count": 20,
   "metadata": {},
   "outputs": [
    {
     "data": {
      "text/plain": [
       "'A'"
      ]
     },
     "execution_count": 20,
     "metadata": {},
     "output_type": "execute_result"
    }
   ],
   "source": [
    "grades[\"Sylvan\"] = \"A\"\n",
    "grades[\"Sylvan\"]"
   ]
  },
  {
   "cell_type": "code",
   "execution_count": 21,
   "metadata": {},
   "outputs": [
    {
     "data": {
      "text/plain": [
       "True"
      ]
     },
     "execution_count": 21,
     "metadata": {},
     "output_type": "execute_result"
    }
   ],
   "source": [
    "\"John\" in grades"
   ]
  },
  {
   "cell_type": "code",
   "execution_count": 24,
   "metadata": {},
   "outputs": [
    {
     "name": "stdout",
     "output_type": "stream",
     "text": [
      "False\n"
     ]
    },
    {
     "data": {
      "text/plain": [
       "{'John': 'A+', 'Denise': 'A', 'Katy': 'A'}"
      ]
     },
     "execution_count": 24,
     "metadata": {},
     "output_type": "execute_result"
    }
   ],
   "source": [
    "del(grades[\"Ana\"])\n",
    "print(\"Ana\" in grades)\n",
    "grades"
   ]
  },
  {
   "attachments": {},
   "cell_type": "markdown",
   "metadata": {},
   "source": [
    "* get an **iterable that acts like a tuple of all keys**\n",
    "* get an **iterable that acts like a tuple of all values**"
   ]
  },
  {
   "cell_type": "code",
   "execution_count": 25,
   "metadata": {},
   "outputs": [
    {
     "data": {
      "text/plain": [
       "dict_values(['A+', 'A', 'A'])"
      ]
     },
     "execution_count": 25,
     "metadata": {},
     "output_type": "execute_result"
    }
   ],
   "source": [
    "grades.values()"
   ]
  },
  {
   "cell_type": "code",
   "execution_count": 26,
   "metadata": {},
   "outputs": [
    {
     "data": {
      "text/plain": [
       "dict_keys(['John', 'Denise', 'Katy'])"
      ]
     },
     "execution_count": 26,
     "metadata": {},
     "output_type": "execute_result"
    }
   ],
   "source": [
    "grades.keys()"
   ]
  },
  {
   "attachments": {},
   "cell_type": "markdown",
   "metadata": {},
   "source": [
    "## Dictionary keys and values\n",
    "* Values\n",
    "    * any type (**Immutable and mutable**)\n",
    "    * can be **duplicates**\n",
    "    * dictionary values can be lists, even other dictionaries!\n",
    "* keys\n",
    "    * must be **unique**\n",
    "    * **immutable** type(int,float,string,tuple,bool)\n",
    "        * actually need an object that is **hashable**, but think of as immutable as all immutable types are hashable\n",
    "    * care with **float** type as key\n",
    "* **no order** to keys or values"
   ]
  },
  {
   "cell_type": "code",
   "execution_count": 27,
   "metadata": {},
   "outputs": [],
   "source": [
    "d = {4:{1:0}, (1,3):\"twelve\", \"const\":[3.14,2.7,8.44]}"
   ]
  },
  {
   "attachments": {},
   "cell_type": "markdown",
   "metadata": {},
   "source": [
    "## List vs dict\n",
    "* List\n",
    "    * **ordered** sequence of elements\n",
    "    * look up elements by an integer index\n",
    "    * indices have an **order**\n",
    "    * index is an **integer**\n",
    "* dict\n",
    "    * **matches** \"keys\" to \"values\"\n",
    "    * look up one item by another item\n",
    "    * **no order** is guranteed\n",
    "    * key can be any **immutable** type"
   ]
  }
 ],
 "metadata": {
  "kernelspec": {
   "display_name": "base",
   "language": "python",
   "name": "python3"
  },
  "language_info": {
   "codemirror_mode": {
    "name": "ipython",
    "version": 3
   },
   "file_extension": ".py",
   "mimetype": "text/x-python",
   "name": "python",
   "nbconvert_exporter": "python",
   "pygments_lexer": "ipython3",
   "version": "3.9.12"
  },
  "orig_nbformat": 4,
  "vscode": {
   "interpreter": {
    "hash": "c21f4b550d44dd8da30efeda0f3fb842b1394f99ed710ddf513c5093383f4f73"
   }
  }
 },
 "nbformat": 4,
 "nbformat_minor": 2
}
