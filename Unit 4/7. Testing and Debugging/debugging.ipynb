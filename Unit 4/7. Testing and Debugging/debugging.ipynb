{
 "cells": [
  {
   "attachments": {},
   "cell_type": "markdown",
   "metadata": {},
   "source": [
    "## Debugging\n",
    "* steep learning curve\n",
    "* goal is to have a bug-free program\n",
    "* tools\n",
    "    * **built-in** to IDLE and Anaconda\n",
    "    * **Python tutor**\n",
    "    * **print** statement\n",
    "    * use your brain, be **systematic** in your hunt\n",
    "\n",
    "## Print Statements\n",
    "* good way to **test hypothesis**\n",
    "* when to print\n",
    "    * enter function\n",
    "    * parameters\n",
    "    * function results\n",
    "* use **bisection method**\n",
    "    * put print halfway in code\n",
    "    * decide where bug may be depending on values\n",
    "\n",
    "## Logic errors - hard\n",
    "* **think** before writing new code\n",
    "* **draw** pictures, take a break\n",
    "* **explain** the code\n",
    "\n",
    "## Debugging Steps\n",
    "* **study**program code\n",
    "    * aks how did I get the unexpected result\n",
    "    * don't ask what is wrong\n",
    "    * is iit part of a family?\n",
    "* **scientific method**\n",
    "    * study available data\n",
    "    * form hypothesis\n",
    "    * repeatable experiments\n",
    "    * pick simplest input to test with\n",
    "\n",
    "# Don't \n",
    "* write entire program, instead write a module and then test"
   ]
  }
 ],
 "metadata": {
  "language_info": {
   "name": "python"
  },
  "orig_nbformat": 4
 },
 "nbformat": 4,
 "nbformat_minor": 2
}
