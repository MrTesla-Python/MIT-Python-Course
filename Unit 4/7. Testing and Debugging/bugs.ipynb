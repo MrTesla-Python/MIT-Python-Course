{
 "cells": [
  {
   "attachments": {},
   "cell_type": "markdown",
   "metadata": {},
   "source": [
    "## Bugs\n",
    "* once you have discovered that your code does not run properly, you want to\n",
    "    * isolate the bug(s)\n",
    "    * eradicate the bug(s)\n",
    "    * retest until code runs correclty"
   ]
  },
  {
   "attachments": {},
   "cell_type": "markdown",
   "metadata": {},
   "source": [
    "## Runtime Bugs\n",
    "* **overt vs covert**\n",
    "    * **overt** has an obvious manifestation - code crashes or runs forever\n",
    "    * **covert** has no obvious manifestation - code returns a value, which may be incorrect but hard to determine\n",
    "* **persistent vs intermittent:**\n",
    "    * **persistent** occurs every time code is run\n",
    "    * **intermittent** only occurs some times, even if run on same input "
   ]
  },
  {
   "attachments": {},
   "cell_type": "markdown",
   "metadata": {},
   "source": [
    "## Categories of bugs\n",
    "* Overt and persistent\n",
    "    * obvious to detect\n",
    "    * good programmers use **defensive programming** to try to ensure that if error is smade, bug will fall into this category\n",
    "* Overt and intermittent\n",
    "    * more furstrating, can be harder to debug, but if conditions that prompt bug can be reprodcued, can be handles\n",
    "* Covert\n",
    "    * Highly dangerous, as users may not realize answers incorrect until code has been run for long period of time"
   ]
  }
 ],
 "metadata": {
  "language_info": {
   "name": "python"
  },
  "orig_nbformat": 4
 },
 "nbformat": 4,
 "nbformat_minor": 2
}
