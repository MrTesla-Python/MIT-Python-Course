{
 "cells": [
  {
   "attachments": {},
   "cell_type": "markdown",
   "metadata": {},
   "source": [
    "## Debugging Skills\n",
    "* treat as a search problem: looking for explanation for incorrect behavior\n",
    "    * study available data - both correct test cases and incorrect ones\n",
    "    * form an hypothesis consistent witht the data\n",
    "    * desisgn and run a repeatable experiment with potential to refute the hypothesis\n",
    "    * keeep record of experiments performed: use narrow range of hypothesis\n",
    "\n",
    "## Debugging as search\n",
    "* want to narrow down space of possible sources of error\n",
    "* design experiments that expose intermediate stages of computation (use print statements)"
   ]
  },
  {
   "cell_type": "code",
   "execution_count": 17,
   "metadata": {},
   "outputs": [
    {
     "name": "stdout",
     "output_type": "stream",
     "text": [
      "No\n"
     ]
    }
   ],
   "source": [
    "def isPal(x):\n",
    "    assert type(x) == list\n",
    "    temp = x\n",
    "    temp = temp.reverse()\n",
    "    if temp == x:\n",
    "        return True\n",
    "    else:\n",
    "        return False\n",
    "def silly(n):\n",
    "    result = []\n",
    "    for i in range(n):\n",
    "        elem = input((\"Enter element: \"))\n",
    "        result.append(elem)\n",
    "    if isPal(result):\n",
    "        print(\"Yes\")\n",
    "    else:\n",
    "        print(\"No\")\n",
    "\n",
    "silly(5)"
   ]
  }
 ],
 "metadata": {
  "kernelspec": {
   "display_name": "Python 3",
   "language": "python",
   "name": "python3"
  },
  "language_info": {
   "codemirror_mode": {
    "name": "ipython",
    "version": 3
   },
   "file_extension": ".py",
   "mimetype": "text/x-python",
   "name": "python",
   "nbconvert_exporter": "python",
   "pygments_lexer": "ipython3",
   "version": "3.10.7"
  },
  "orig_nbformat": 4
 },
 "nbformat": 4,
 "nbformat_minor": 2
}
