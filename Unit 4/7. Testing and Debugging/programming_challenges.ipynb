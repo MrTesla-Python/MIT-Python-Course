{
 "cells": [
  {
   "attachments": {},
   "cell_type": "markdown",
   "metadata": {},
   "source": [
    "## Testing and Debugging\n",
    "* Don't always write code that works the first time"
   ]
  },
  {
   "attachments": {},
   "cell_type": "markdown",
   "metadata": {},
   "source": [
    "## Aim for high quality - soup analogy with soup\n",
    "You are aking soup but bugs keep falling in from the celing. What do you do?\n",
    "* check soup for bugs\n",
    "    * **testing**\n",
    "* keep lid closed\n",
    "    * **defensive programming**\n",
    "* clean kitchen"
   ]
  },
  {
   "attachments": {},
   "cell_type": "markdown",
   "metadata": {},
   "source": [
    "## Defnesive Programming\n",
    "* write specigications for functions\n",
    "* modularize programs\n",
    "* check conditions of inputs/outputs (assertions)\n",
    "\n",
    "## Testing/Validation\n",
    "* compare input/output pairs to specifiations\n",
    "* It's not working!\n",
    "* How caan I break my program?\n",
    "\n",
    "## Debugging\n",
    "* Study events leading up to an error\n",
    "* Why is it not working?\n",
    "* How can I fix my program?"
   ]
  }
 ],
 "metadata": {
  "kernelspec": {
   "display_name": "Python 3",
   "language": "python",
   "name": "python3"
  },
  "language_info": {
   "name": "python",
   "version": "3.10.7"
  },
  "orig_nbformat": 4,
  "vscode": {
   "interpreter": {
    "hash": "a5de64471995492ddc618a58ecdfb7a4b97e4a4f9afd41641e70cf3b1dd10a09"
   }
  }
 },
 "nbformat": 4,
 "nbformat_minor": 2
}
