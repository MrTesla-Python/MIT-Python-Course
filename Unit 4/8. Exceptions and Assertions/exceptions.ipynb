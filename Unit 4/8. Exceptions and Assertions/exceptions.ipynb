{
 "cells": [
  {
   "attachments": {},
   "cell_type": "markdown",
   "metadata": {},
   "source": [
    "## Exceptions and Assertions\n",
    "* what happens when procedure execution hits an **unexpected condition**?\n",
    "* get an **exception** to what was expected\n",
    "    * trying to access beyond list limits\n",
    "    * trying to convert an inappropriate type\n",
    "    * referencing a non-existing varaible\n",
    "    * mxing data type without coercion\n",
    "\n",
    "## What to do with exceptions?\n",
    "* what to do when encounter an error?\n",
    "* **fail silently**:\n",
    "    * substitute default values or just continue\n",
    "    * **bad idea** user gets no warning\n",
    "* return an **error value**\n",
    "    * what value to choose?\n",
    "    * complicates code having to check for a special value\n",
    "* stop execution, **signal error** condition\n",
    "    * in Python: **raise an exception**"
   ]
  },
  {
   "cell_type": "code",
   "execution_count": 1,
   "metadata": {},
   "outputs": [
    {
     "name": "stdout",
     "output_type": "stream",
     "text": [
      "Bug in user input.\n",
      "Outside\n"
     ]
    }
   ],
   "source": [
    "try:\n",
    "    a = int(input(\"Tell me one number: \"))\n",
    "    b = int(input(\"Tell me another number: \"))\n",
    "    print(a/b)\n",
    "    print(\"Okay\")\n",
    "except:\n",
    "    print(\"Bug in user input.\")\n",
    "print(\"Outside\")"
   ]
  },
  {
   "attachments": {},
   "cell_type": "markdown",
   "metadata": {},
   "source": [
    "* Else\n",
    "    * body of this executed when executions of associated try executed\n",
    "* Finally\n",
    "    always executed"
   ]
  }
 ],
 "metadata": {
  "kernelspec": {
   "display_name": "Python 3",
   "language": "python",
   "name": "python3"
  },
  "language_info": {
   "codemirror_mode": {
    "name": "ipython",
    "version": 3
   },
   "file_extension": ".py",
   "mimetype": "text/x-python",
   "name": "python",
   "nbconvert_exporter": "python",
   "pygments_lexer": "ipython3",
   "version": "3.10.7"
  },
  "orig_nbformat": 4
 },
 "nbformat": 4,
 "nbformat_minor": 2
}
